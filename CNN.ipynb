{
 "cells": [
  {
   "cell_type": "markdown",
   "metadata": {},
   "source": [
    "## Train CNN model"
   ]
  },
  {
   "cell_type": "code",
   "execution_count": 14,
   "metadata": {
    "collapsed": true
   },
   "outputs": [],
   "source": [
    "import numpy as np\n",
    "from scipy import misc\n",
    "import imageio\n",
    "from cnn import training\n",
    "import tensorflow as tf\n",
    "import pandas as pd"
   ]
  },
  {
   "cell_type": "code",
   "execution_count": 16,
   "metadata": {
    "collapsed": true
   },
   "outputs": [],
   "source": [
    "path_all= \"dim_items（new).txt\"\n",
    "\n",
    "file_all= open(path_all, encoding=\"utf-8\")\n",
    "\n",
    "seq_all= re.compile(\"\\s+\")\n",
    "result_all= []\n",
    "for line in file_all:\n",
    "    lst = seq_all.split(line.strip())\n",
    "    item = {\n",
    "        \"item\": lst[0],\n",
    "        \"cat\": lst[1],\n",
    "        \"terms\":lst[2:]\n",
    "    }\n",
    "    result_all.append(item)    \n",
    "file_all.close()\n",
    "\n",
    "keys = {}\n",
    "for each in result_all:\n",
    "    if  each['cat'] in keys:\n",
    "        keys[ each['cat'] ] +=  [each['item']]\n",
    "    else:\n",
    "        keys[ each['cat'] ] = [each['item']]  "
   ]
  },
  {
   "cell_type": "code",
   "execution_count": 20,
   "metadata": {
    "collapsed": true
   },
   "outputs": [],
   "source": [
    "files = []\n",
    "for i in keys:\n",
    "    path = 'data/train/' + str(i)\n",
    "    tmp = os.listdir(path)\n",
    "    files += tmp"
   ]
  },
  {
   "cell_type": "code",
   "execution_count": 22,
   "metadata": {
    "collapsed": true
   },
   "outputs": [],
   "source": [
    "X_train = []\n",
    "Y_train = []\n",
    "for path in files:\n",
    "    arr = imageio.imread(path) \n",
    "    # X_train.append(arr)\n",
    "    X_train.append(arr[::4,::4])\n",
    "    Y_train.append(label)   "
   ]
  },
  {
   "cell_type": "code",
   "execution_count": 25,
   "metadata": {
    "collapsed": true
   },
   "outputs": [],
   "source": [
    "X_org = np.array(X_train)\n",
    "Y_org = np.array(Y_train)\n",
    "\n",
    "num_org = X_org.shape[0]\n",
    "train_proportion = 0.75"
   ]
  },
  {
   "cell_type": "code",
   "execution_count": 33,
   "metadata": {},
   "outputs": [
    {
     "name": "stdout",
     "output_type": "stream",
     "text": [
      "(374987, 32, 32, 3)\n",
      "(374987,)\n"
     ]
    }
   ],
   "source": [
    "sample_idxs = np.random.choice(num_org, int(num_org*train_proportion))\n",
    "train_X = X_org[sample_idxs,:]\n",
    "train_Y = Y_org[sample_idxs]\n",
    "print(train_X.shape)\n",
    "print(train_Y.shape)"
   ]
  },
  {
   "cell_type": "code",
   "execution_count": 37,
   "metadata": {
    "collapsed": true
   },
   "outputs": [],
   "source": [
    "val_X = X_org[-sample_idxs,:]\n",
    "val_Y = Y_org[-sample_idxs]"
   ]
  },
  {
   "cell_type": "code",
   "execution_count": 44,
   "metadata": {},
   "outputs": [
    {
     "name": "stdout",
     "output_type": "stream",
     "text": [
      "Building my LeNet. Parameters: \n",
      "conv_featmap=[32, 64, 128]\n",
      "fc_units=[256]\n",
      "conv_kernel_size=[5, 5, 5]\n",
      "pooling_size=[2, 2, 2]\n",
      "l2_norm=0.01\n",
      "seed=235\n",
      "learning_rate=0.01\n",
      "number of batches for training: 24\n",
      "epoch 1 \n",
      "epoch 2 \n",
      "epoch 3 \n",
      "epoch 4 \n",
      "epoch 5 \n",
      "Best validation accuracy! iteration:100 accuracy: 43.4%\n",
      "epoch 6 \n",
      "epoch 7 \n",
      "epoch 8 \n",
      "epoch 9 \n",
      "Best validation accuracy! iteration:200 accuracy: 65.9%\n",
      "epoch 10 \n",
      "epoch 11 \n",
      "epoch 12 \n",
      "epoch 13 \n",
      "Best validation accuracy! iteration:300 accuracy: 69.6%\n",
      "epoch 14 \n",
      "epoch 15 \n",
      "epoch 16 \n",
      "epoch 17 \n",
      "Best validation accuracy! iteration:400 accuracy: 73.9%\n",
      "epoch 18 \n",
      "epoch 19 \n",
      "epoch 20 \n",
      "epoch 21 \n",
      "Best validation accuracy! iteration:500 accuracy: 75.2%\n",
      "epoch 22 \n",
      "epoch 23 \n",
      "epoch 24 \n",
      "epoch 25 \n",
      "Best validation accuracy! iteration:600 accuracy: 76.0%\n",
      "epoch 26 \n",
      "epoch 27 \n",
      "epoch 28 \n",
      "epoch 29 \n",
      "epoch 30 \n",
      "Best validation accuracy! iteration:700 accuracy: 77.1%\n",
      "epoch 31 \n",
      "epoch 32 \n",
      "epoch 33 \n",
      "epoch 34 \n",
      "epoch 35 \n",
      "epoch 36 \n",
      "epoch 37 \n",
      "epoch 38 \n",
      "epoch 39 \n",
      "epoch 40 \n",
      "epoch 41 \n",
      "epoch 42 \n",
      "Best validation accuracy! iteration:1000 accuracy: 79.6%\n",
      "epoch 43 \n",
      "epoch 44 \n",
      "epoch 45 \n",
      "epoch 46 \n",
      "Best validation accuracy! iteration:1100 accuracy: 80.6%\n",
      "epoch 47 \n",
      "epoch 48 \n",
      "epoch 49 \n",
      "epoch 50 \n",
      "epoch 51 \n",
      "epoch 52 \n",
      "epoch 53 \n",
      "epoch 54 \n",
      "epoch 55 \n",
      "epoch 56 \n",
      "epoch 57 \n",
      "epoch 58 \n",
      "epoch 59 \n",
      "epoch 60 \n",
      "epoch 61 \n",
      "epoch 62 \n",
      "epoch 63 \n",
      "epoch 64 \n",
      "epoch 65 \n",
      "epoch 66 \n",
      "epoch 67 \n",
      "epoch 68 \n",
      "epoch 69 \n",
      "epoch 70 \n",
      "epoch 71 \n",
      "epoch 72 \n",
      "epoch 73 \n",
      "epoch 74 \n",
      "epoch 75 \n",
      "Best validation accuracy! iteration:1800 accuracy: 81.1%\n",
      "epoch 76 \n",
      "epoch 77 \n",
      "epoch 78 \n",
      "epoch 79 \n",
      "epoch 80 \n",
      "epoch 81 \n",
      "epoch 82 \n",
      "epoch 83 \n",
      "epoch 84 \n",
      "epoch 85 \n",
      "epoch 86 \n",
      "epoch 87 \n",
      "epoch 88 \n",
      "epoch 89 \n",
      "epoch 90 \n",
      "epoch 91 \n",
      "epoch 92 \n",
      "epoch 93 \n",
      "epoch 94 \n",
      "epoch 95 \n",
      "epoch 96 \n",
      "epoch 97 \n",
      "epoch 98 \n",
      "epoch 99 \n",
      "epoch 100 \n",
      "epoch 101 \n",
      "epoch 102 \n",
      "epoch 103 \n",
      "epoch 104 \n",
      "epoch 105 \n",
      "epoch 106 \n",
      "epoch 107 \n",
      "epoch 108 \n",
      "epoch 109 \n",
      "Best validation accuracy! iteration:2600 accuracy: 81.9%\n",
      "epoch 110 \n",
      "epoch 111 \n",
      "epoch 112 \n",
      "epoch 113 \n",
      "epoch 114 \n",
      "epoch 115 \n",
      "epoch 116 \n",
      "epoch 117 \n",
      "epoch 118 \n",
      "epoch 119 \n",
      "epoch 120 \n",
      "epoch 121 \n",
      "epoch 122 \n",
      "epoch 123 \n",
      "epoch 124 \n",
      "epoch 125 \n",
      "Best validation accuracy! iteration:3000 accuracy: 82.5%\n",
      "epoch 126 \n",
      "epoch 127 \n",
      "epoch 128 \n",
      "epoch 129 \n",
      "epoch 130 \n",
      "epoch 131 \n",
      "epoch 132 \n",
      "epoch 133 \n",
      "epoch 134 \n",
      "epoch 135 \n",
      "epoch 136 \n",
      "epoch 137 \n",
      "epoch 138 \n",
      "epoch 139 \n",
      "epoch 140 \n",
      "epoch 141 \n",
      "epoch 142 \n",
      "epoch 143 \n",
      "epoch 144 \n",
      "epoch 145 \n",
      "epoch 146 \n",
      "epoch 147 \n",
      "epoch 148 \n",
      "epoch 149 \n",
      "epoch 150 \n",
      "Traning ends. The best valid accuracy is 82.5. Model named lenet_1509803802.\n"
     ]
    }
   ],
   "source": [
    "tf.reset_default_graph()\n",
    "my_training(X_train, y_train, X_val, y_val, \n",
    "         conv_featmap=[32,64,128],\n",
    "         fc_units=[256],\n",
    "         conv_kernel_size=[5,5,5],\n",
    "         dropout_rate=[0.5, 0.75, 1.0],\n",
    "         pooling_size=[2,2,2],\n",
    "         l2_norm=0.01,\n",
    "         seed=235,\n",
    "         learning_rate=1e-2,\n",
    "         epoch=150,\n",
    "         batch_size=15600,\n",
    "         verbose=False,\n",
    "         pre_trained_model=None)"
   ]
  },
  {
   "cell_type": "markdown",
   "metadata": {},
   "source": [
    "## Save the best model"
   ]
  },
  {
   "cell_type": "code",
   "execution_count": 45,
   "metadata": {
    "collapsed": true
   },
   "outputs": [],
   "source": [
    "path = os.listdir('data/test')"
   ]
  },
  {
   "cell_type": "code",
   "execution_count": 46,
   "metadata": {
    "collapsed": true
   },
   "outputs": [],
   "source": [
    "X_test = []\n",
    "for path_test in path:\n",
    "    arr = imageio.imread(path_test) \n",
    "    X_test.append(arr[::4,::4])"
   ]
  },
  {
   "cell_type": "code",
   "execution_count": 57,
   "metadata": {},
   "outputs": [
    {
     "name": "stdout",
     "output_type": "stream",
     "text": [
      "INFO:tensorflow:Restoring parameters from model/lenet_1509837508\n",
      "tf_input: inputs/Placeholder:0\n",
      "[<tf.Operation 'inputs/Placeholder' type=Placeholder>, <tf.Operation 'inputs/Placeholder_1' type=Placeholder>, <tf.Operation 'conv_layer_0/conv_kernel_0/Initializer/random_uniform/shape' type=Const>, <tf.Operation 'conv_layer_0/conv_kernel_0/Initializer/random_uniform/min' type=Const>, <tf.Operation 'conv_layer_0/conv_kernel_0/Initializer/random_uniform/max' type=Const>, <tf.Operation 'conv_layer_0/conv_kernel_0/Initializer/random_uniform/RandomUniform' type=RandomUniform>, <tf.Operation 'conv_layer_0/conv_kernel_0/Initializer/random_uniform/sub' type=Sub>, <tf.Operation 'conv_layer_0/conv_kernel_0/Initializer/random_uniform/mul' type=Mul>, <tf.Operation 'conv_layer_0/conv_kernel_0/Initializer/random_uniform' type=Add>, <tf.Operation 'conv_layer_0/conv_kernel_0' type=VariableV2>, <tf.Operation 'conv_layer_0/conv_kernel_0/Assign' type=Assign>, <tf.Operation 'conv_layer_0/conv_kernel_0/read' type=Identity>, <tf.Operation 'conv_layer_0/conv_bias/conv_bias_0/Initializer/random_uniform/shape' type=Const>, <tf.Operation 'conv_layer_0/conv_bias/conv_bias_0/Initializer/random_uniform/min' type=Const>, <tf.Operation 'conv_layer_0/conv_bias/conv_bias_0/Initializer/random_uniform/max' type=Const>, <tf.Operation 'conv_layer_0/conv_bias/conv_bias_0/Initializer/random_uniform/RandomUniform' type=RandomUniform>, <tf.Operation 'conv_layer_0/conv_bias/conv_bias_0/Initializer/random_uniform/sub' type=Sub>, <tf.Operation 'conv_layer_0/conv_bias/conv_bias_0/Initializer/random_uniform/mul' type=Mul>, <tf.Operation 'conv_layer_0/conv_bias/conv_bias_0/Initializer/random_uniform' type=Add>, <tf.Operation 'conv_layer_0/conv_bias/conv_bias_0' type=VariableV2>, <tf.Operation 'conv_layer_0/conv_bias/conv_bias_0/Assign' type=Assign>, <tf.Operation 'conv_layer_0/conv_bias/conv_bias_0/read' type=Identity>, <tf.Operation 'conv_layer_0/Conv2D' type=Conv2D>, <tf.Operation 'conv_layer_0/add' type=Add>, <tf.Operation 'conv_layer_0/Relu' type=Relu>, <tf.Operation 'conv_layer_0/conv_layer/0/kernel/tag' type=Const>, <tf.Operation 'conv_layer_0/conv_layer/0/kernel' type=HistogramSummary>, <tf.Operation 'conv_layer_0/conv_layer/0/bias/tag' type=Const>, <tf.Operation 'conv_layer_0/conv_layer/0/bias' type=HistogramSummary>, <tf.Operation 'max_pooling/MaxPool' type=MaxPool>, <tf.Operation 'local_response_norm/LRN' type=LRN>, <tf.Operation 'conv_layer_1/conv_kernel_1/Initializer/random_uniform/shape' type=Const>, <tf.Operation 'conv_layer_1/conv_kernel_1/Initializer/random_uniform/min' type=Const>, <tf.Operation 'conv_layer_1/conv_kernel_1/Initializer/random_uniform/max' type=Const>, <tf.Operation 'conv_layer_1/conv_kernel_1/Initializer/random_uniform/RandomUniform' type=RandomUniform>, <tf.Operation 'conv_layer_1/conv_kernel_1/Initializer/random_uniform/sub' type=Sub>, <tf.Operation 'conv_layer_1/conv_kernel_1/Initializer/random_uniform/mul' type=Mul>, <tf.Operation 'conv_layer_1/conv_kernel_1/Initializer/random_uniform' type=Add>, <tf.Operation 'conv_layer_1/conv_kernel_1' type=VariableV2>, <tf.Operation 'conv_layer_1/conv_kernel_1/Assign' type=Assign>, <tf.Operation 'conv_layer_1/conv_kernel_1/read' type=Identity>, <tf.Operation 'conv_layer_1/conv_bias/conv_bias_1/Initializer/random_uniform/shape' type=Const>, <tf.Operation 'conv_layer_1/conv_bias/conv_bias_1/Initializer/random_uniform/min' type=Const>, <tf.Operation 'conv_layer_1/conv_bias/conv_bias_1/Initializer/random_uniform/max' type=Const>, <tf.Operation 'conv_layer_1/conv_bias/conv_bias_1/Initializer/random_uniform/RandomUniform' type=RandomUniform>, <tf.Operation 'conv_layer_1/conv_bias/conv_bias_1/Initializer/random_uniform/sub' type=Sub>, <tf.Operation 'conv_layer_1/conv_bias/conv_bias_1/Initializer/random_uniform/mul' type=Mul>, <tf.Operation 'conv_layer_1/conv_bias/conv_bias_1/Initializer/random_uniform' type=Add>, <tf.Operation 'conv_layer_1/conv_bias/conv_bias_1' type=VariableV2>, <tf.Operation 'conv_layer_1/conv_bias/conv_bias_1/Assign' type=Assign>, <tf.Operation 'conv_layer_1/conv_bias/conv_bias_1/read' type=Identity>, <tf.Operation 'conv_layer_1/Conv2D' type=Conv2D>, <tf.Operation 'conv_layer_1/add' type=Add>, <tf.Operation 'conv_layer_1/Relu' type=Relu>, <tf.Operation 'conv_layer_1/conv_layer/1/kernel/tag' type=Const>, <tf.Operation 'conv_layer_1/conv_layer/1/kernel' type=HistogramSummary>, <tf.Operation 'conv_layer_1/conv_layer/1/bias/tag' type=Const>, <tf.Operation 'conv_layer_1/conv_layer/1/bias' type=HistogramSummary>, <tf.Operation 'max_pooling_1/MaxPool' type=MaxPool>, <tf.Operation 'local_response_norm_1/LRN' type=LRN>, <tf.Operation 'Reshape/shape' type=Const>, <tf.Operation 'Reshape' type=Reshape>, <tf.Operation 'fc_layer_0/fc_kernel_0/Initializer/random_uniform/shape' type=Const>, <tf.Operation 'fc_layer_0/fc_kernel_0/Initializer/random_uniform/min' type=Const>, <tf.Operation 'fc_layer_0/fc_kernel_0/Initializer/random_uniform/max' type=Const>, <tf.Operation 'fc_layer_0/fc_kernel_0/Initializer/random_uniform/RandomUniform' type=RandomUniform>, <tf.Operation 'fc_layer_0/fc_kernel_0/Initializer/random_uniform/sub' type=Sub>, <tf.Operation 'fc_layer_0/fc_kernel_0/Initializer/random_uniform/mul' type=Mul>, <tf.Operation 'fc_layer_0/fc_kernel_0/Initializer/random_uniform' type=Add>, <tf.Operation 'fc_layer_0/fc_kernel_0' type=VariableV2>, <tf.Operation 'fc_layer_0/fc_kernel_0/Assign' type=Assign>, <tf.Operation 'fc_layer_0/fc_kernel_0/read' type=Identity>, <tf.Operation 'fc_layer_0/fc_kernel/fc_bias_0/Initializer/random_uniform/shape' type=Const>, <tf.Operation 'fc_layer_0/fc_kernel/fc_bias_0/Initializer/random_uniform/min' type=Const>, <tf.Operation 'fc_layer_0/fc_kernel/fc_bias_0/Initializer/random_uniform/max' type=Const>, <tf.Operation 'fc_layer_0/fc_kernel/fc_bias_0/Initializer/random_uniform/RandomUniform' type=RandomUniform>, <tf.Operation 'fc_layer_0/fc_kernel/fc_bias_0/Initializer/random_uniform/sub' type=Sub>, <tf.Operation 'fc_layer_0/fc_kernel/fc_bias_0/Initializer/random_uniform/mul' type=Mul>, <tf.Operation 'fc_layer_0/fc_kernel/fc_bias_0/Initializer/random_uniform' type=Add>, <tf.Operation 'fc_layer_0/fc_kernel/fc_bias_0' type=VariableV2>, <tf.Operation 'fc_layer_0/fc_kernel/fc_bias_0/Assign' type=Assign>, <tf.Operation 'fc_layer_0/fc_kernel/fc_bias_0/read' type=Identity>, <tf.Operation 'fc_layer_0/MatMul' type=MatMul>, <tf.Operation 'fc_layer_0/Add' type=Add>, <tf.Operation 'fc_layer_0/Relu' type=Relu>, <tf.Operation 'fc_layer_0/fc_layer/0/kernel/tag' type=Const>, <tf.Operation 'fc_layer_0/fc_layer/0/kernel' type=HistogramSummary>, <tf.Operation 'fc_layer_0/fc_layer/0/bias/tag' type=Const>, <tf.Operation 'fc_layer_0/fc_layer/0/bias' type=HistogramSummary>, <tf.Operation 'fc_layer_1/fc_kernel_1/Initializer/random_uniform/shape' type=Const>, <tf.Operation 'fc_layer_1/fc_kernel_1/Initializer/random_uniform/min' type=Const>, <tf.Operation 'fc_layer_1/fc_kernel_1/Initializer/random_uniform/max' type=Const>, <tf.Operation 'fc_layer_1/fc_kernel_1/Initializer/random_uniform/RandomUniform' type=RandomUniform>, <tf.Operation 'fc_layer_1/fc_kernel_1/Initializer/random_uniform/sub' type=Sub>, <tf.Operation 'fc_layer_1/fc_kernel_1/Initializer/random_uniform/mul' type=Mul>, <tf.Operation 'fc_layer_1/fc_kernel_1/Initializer/random_uniform' type=Add>, <tf.Operation 'fc_layer_1/fc_kernel_1' type=VariableV2>, <tf.Operation 'fc_layer_1/fc_kernel_1/Assign' type=Assign>, <tf.Operation 'fc_layer_1/fc_kernel_1/read' type=Identity>, <tf.Operation 'fc_layer_1/fc_kernel/fc_bias_1/Initializer/random_uniform/shape' type=Const>, <tf.Operation 'fc_layer_1/fc_kernel/fc_bias_1/Initializer/random_uniform/min' type=Const>, <tf.Operation 'fc_layer_1/fc_kernel/fc_bias_1/Initializer/random_uniform/max' type=Const>, <tf.Operation 'fc_layer_1/fc_kernel/fc_bias_1/Initializer/random_uniform/RandomUniform' type=RandomUniform>, <tf.Operation 'fc_layer_1/fc_kernel/fc_bias_1/Initializer/random_uniform/sub' type=Sub>, <tf.Operation 'fc_layer_1/fc_kernel/fc_bias_1/Initializer/random_uniform/mul' type=Mul>, <tf.Operation 'fc_layer_1/fc_kernel/fc_bias_1/Initializer/random_uniform' type=Add>, <tf.Operation 'fc_layer_1/fc_kernel/fc_bias_1' type=VariableV2>, <tf.Operation 'fc_layer_1/fc_kernel/fc_bias_1/Assign' type=Assign>, <tf.Operation 'fc_layer_1/fc_kernel/fc_bias_1/read' type=Identity>, <tf.Operation 'fc_layer_1/MatMul' type=MatMul>, <tf.Operation 'fc_layer_1/Add' type=Add>, <tf.Operation 'fc_layer_1/fc_layer/1/kernel/tag' type=Const>, <tf.Operation 'fc_layer_1/fc_layer/1/kernel' type=HistogramSummary>, <tf.Operation 'fc_layer_1/fc_layer/1/bias/tag' type=Const>, <tf.Operation 'fc_layer_1/fc_layer/1/bias' type=HistogramSummary>, <tf.Operation 'loss/norm/mul' type=Mul>, <tf.Operation 'loss/norm/Const' type=Const>, <tf.Operation 'loss/norm/Sum' type=Sum>, <tf.Operation 'loss/norm/Sqrt' type=Sqrt>, <tf.Operation 'loss/norm/Squeeze' type=Squeeze>, <tf.Operation 'loss/norm_1/mul' type=Mul>, <tf.Operation 'loss/norm_1/Const' type=Const>, <tf.Operation 'loss/norm_1/Sum' type=Sum>, <tf.Operation 'loss/norm_1/Sqrt' type=Sqrt>, <tf.Operation 'loss/norm_1/Squeeze' type=Squeeze>, <tf.Operation 'loss/Rank/packed' type=Pack>, <tf.Operation 'loss/Rank' type=Const>, <tf.Operation 'loss/range/start' type=Const>, <tf.Operation 'loss/range/delta' type=Const>, <tf.Operation 'loss/range' type=Range>, <tf.Operation 'loss/Sum/input' type=Pack>, <tf.Operation 'loss/Sum' type=Sum>, <tf.Operation 'loss/norm_2/mul' type=Mul>, <tf.Operation 'loss/norm_2/Sum/reduction_indices' type=Const>, <tf.Operation 'loss/norm_2/Sum' type=Sum>, <tf.Operation 'loss/norm_2/Sqrt' type=Sqrt>, <tf.Operation 'loss/norm_2/Squeeze' type=Squeeze>, <tf.Operation 'loss/Rank_1/packed' type=Pack>, <tf.Operation 'loss/Rank_1' type=Const>, <tf.Operation 'loss/range_1/start' type=Const>, <tf.Operation 'loss/range_1/delta' type=Const>, <tf.Operation 'loss/range_1' type=Range>, <tf.Operation 'loss/Sum_1/input' type=Pack>, <tf.Operation 'loss/Sum_1' type=Sum>, <tf.Operation 'loss/add' type=Add>, <tf.Operation 'loss/one_hot/on_value' type=Const>, <tf.Operation 'loss/one_hot/off_value' type=Const>, <tf.Operation 'loss/one_hot/depth' type=Const>, <tf.Operation 'loss/one_hot' type=OneHot>, <tf.Operation 'loss/Rank_2' type=Const>, <tf.Operation 'loss/Shape' type=Shape>, <tf.Operation 'loss/Rank_3' type=Const>, <tf.Operation 'loss/Shape_1' type=Shape>, <tf.Operation 'loss/Sub/y' type=Const>, <tf.Operation 'loss/Sub' type=Sub>, <tf.Operation 'loss/Slice/begin' type=Pack>, <tf.Operation 'loss/Slice/size' type=Const>, <tf.Operation 'loss/Slice' type=Slice>, <tf.Operation 'loss/concat/values_0' type=Const>, <tf.Operation 'loss/concat/axis' type=Const>, <tf.Operation 'loss/concat' type=ConcatV2>, <tf.Operation 'loss/Reshape' type=Reshape>, <tf.Operation 'loss/Rank_4' type=Const>, <tf.Operation 'loss/Shape_2' type=Shape>, <tf.Operation 'loss/Sub_1/y' type=Const>, <tf.Operation 'loss/Sub_1' type=Sub>, <tf.Operation 'loss/Slice_1/begin' type=Pack>, <tf.Operation 'loss/Slice_1/size' type=Const>, <tf.Operation 'loss/Slice_1' type=Slice>, <tf.Operation 'loss/concat_1/values_0' type=Const>, <tf.Operation 'loss/concat_1/axis' type=Const>, <tf.Operation 'loss/concat_1' type=ConcatV2>, <tf.Operation 'loss/Reshape_1' type=Reshape>, <tf.Operation 'loss/SoftmaxCrossEntropyWithLogits' type=SoftmaxCrossEntropyWithLogits>, <tf.Operation 'loss/Sub_2/y' type=Const>, <tf.Operation 'loss/Sub_2' type=Sub>, <tf.Operation 'loss/Slice_2/begin' type=Const>, <tf.Operation 'loss/Slice_2/size' type=Pack>, <tf.Operation 'loss/Slice_2' type=Slice>, <tf.Operation 'loss/Reshape_2' type=Reshape>, <tf.Operation 'loss/Const' type=Const>, <tf.Operation 'loss/cross_entropy' type=Mean>, <tf.Operation 'loss/mul/x' type=Const>, <tf.Operation 'loss/mul' type=Mul>, <tf.Operation 'loss/loss' type=Add>, <tf.Operation 'loss/LeNet_loss/tags' type=Const>, <tf.Operation 'loss/LeNet_loss' type=ScalarSummary>, <tf.Operation 'train_step/gradients/Shape' type=Const>, <tf.Operation 'train_step/gradients/Const' type=Const>, <tf.Operation 'train_step/gradients/Fill' type=Fill>, <tf.Operation 'train_step/gradients/loss/loss_grad/Shape' type=Const>, <tf.Operation 'train_step/gradients/loss/loss_grad/Shape_1' type=Const>, <tf.Operation 'train_step/gradients/loss/loss_grad/BroadcastGradientArgs' type=BroadcastGradientArgs>, <tf.Operation 'train_step/gradients/loss/loss_grad/Sum' type=Sum>, <tf.Operation 'train_step/gradients/loss/loss_grad/Reshape' type=Reshape>, <tf.Operation 'train_step/gradients/loss/loss_grad/Sum_1' type=Sum>, <tf.Operation 'train_step/gradients/loss/loss_grad/Reshape_1' type=Reshape>, <tf.Operation 'train_step/gradients/loss/loss_grad/tuple/group_deps' type=NoOp>, <tf.Operation 'train_step/gradients/loss/loss_grad/tuple/control_dependency' type=Identity>, <tf.Operation 'train_step/gradients/loss/loss_grad/tuple/control_dependency_1' type=Identity>, <tf.Operation 'train_step/gradients/loss/cross_entropy_grad/Reshape/shape' type=Const>, <tf.Operation 'train_step/gradients/loss/cross_entropy_grad/Reshape' type=Reshape>, <tf.Operation 'train_step/gradients/loss/cross_entropy_grad/Shape' type=Shape>, <tf.Operation 'train_step/gradients/loss/cross_entropy_grad/Tile' type=Tile>, <tf.Operation 'train_step/gradients/loss/cross_entropy_grad/Shape_1' type=Shape>, <tf.Operation 'train_step/gradients/loss/cross_entropy_grad/Shape_2' type=Const>, <tf.Operation 'train_step/gradients/loss/cross_entropy_grad/Const' type=Const>, <tf.Operation 'train_step/gradients/loss/cross_entropy_grad/Prod' type=Prod>, <tf.Operation 'train_step/gradients/loss/cross_entropy_grad/Const_1' type=Const>, <tf.Operation 'train_step/gradients/loss/cross_entropy_grad/Prod_1' type=Prod>, <tf.Operation 'train_step/gradients/loss/cross_entropy_grad/Maximum/y' type=Const>, <tf.Operation 'train_step/gradients/loss/cross_entropy_grad/Maximum' type=Maximum>, <tf.Operation 'train_step/gradients/loss/cross_entropy_grad/floordiv' type=FloorDiv>, <tf.Operation 'train_step/gradients/loss/cross_entropy_grad/Cast' type=Cast>, <tf.Operation 'train_step/gradients/loss/cross_entropy_grad/truediv' type=RealDiv>, <tf.Operation 'train_step/gradients/loss/mul_grad/Shape' type=Const>, <tf.Operation 'train_step/gradients/loss/mul_grad/Shape_1' type=Const>, <tf.Operation 'train_step/gradients/loss/mul_grad/BroadcastGradientArgs' type=BroadcastGradientArgs>, <tf.Operation 'train_step/gradients/loss/mul_grad/mul' type=Mul>, <tf.Operation 'train_step/gradients/loss/mul_grad/Sum' type=Sum>, <tf.Operation 'train_step/gradients/loss/mul_grad/Reshape' type=Reshape>, <tf.Operation 'train_step/gradients/loss/mul_grad/mul_1' type=Mul>, <tf.Operation 'train_step/gradients/loss/mul_grad/Sum_1' type=Sum>, <tf.Operation 'train_step/gradients/loss/mul_grad/Reshape_1' type=Reshape>, <tf.Operation 'train_step/gradients/loss/mul_grad/tuple/group_deps' type=NoOp>, <tf.Operation 'train_step/gradients/loss/mul_grad/tuple/control_dependency' type=Identity>, <tf.Operation 'train_step/gradients/loss/mul_grad/tuple/control_dependency_1' type=Identity>, <tf.Operation 'train_step/gradients/loss/Reshape_2_grad/Shape' type=Shape>, <tf.Operation 'train_step/gradients/loss/Reshape_2_grad/Reshape' type=Reshape>, <tf.Operation 'train_step/gradients/loss/add_grad/Shape' type=Const>, <tf.Operation 'train_step/gradients/loss/add_grad/Shape_1' type=Const>, <tf.Operation 'train_step/gradients/loss/add_grad/BroadcastGradientArgs' type=BroadcastGradientArgs>, <tf.Operation 'train_step/gradients/loss/add_grad/Sum' type=Sum>, <tf.Operation 'train_step/gradients/loss/add_grad/Reshape' type=Reshape>, <tf.Operation 'train_step/gradients/loss/add_grad/Sum_1' type=Sum>, <tf.Operation 'train_step/gradients/loss/add_grad/Reshape_1' type=Reshape>, <tf.Operation 'train_step/gradients/loss/add_grad/tuple/group_deps' type=NoOp>, <tf.Operation 'train_step/gradients/loss/add_grad/tuple/control_dependency' type=Identity>, <tf.Operation 'train_step/gradients/loss/add_grad/tuple/control_dependency_1' type=Identity>, <tf.Operation 'train_step/gradients/zeros_like' type=ZerosLike>, <tf.Operation 'train_step/gradients/loss/SoftmaxCrossEntropyWithLogits_grad/ExpandDims/dim' type=Const>, <tf.Operation 'train_step/gradients/loss/SoftmaxCrossEntropyWithLogits_grad/ExpandDims' type=ExpandDims>, <tf.Operation 'train_step/gradients/loss/SoftmaxCrossEntropyWithLogits_grad/mul' type=Mul>, <tf.Operation 'train_step/gradients/loss/Sum_grad/Shape' type=Const>, <tf.Operation 'train_step/gradients/loss/Sum_grad/Size' type=Const>, <tf.Operation 'train_step/gradients/loss/Sum_grad/add' type=Add>, <tf.Operation 'train_step/gradients/loss/Sum_grad/mod' type=FloorMod>, <tf.Operation 'train_step/gradients/loss/Sum_grad/Shape_1' type=Const>, <tf.Operation 'train_step/gradients/loss/Sum_grad/range/start' type=Const>, <tf.Operation 'train_step/gradients/loss/Sum_grad/range/delta' type=Const>, <tf.Operation 'train_step/gradients/loss/Sum_grad/range' type=Range>, <tf.Operation 'train_step/gradients/loss/Sum_grad/Fill/value' type=Const>, <tf.Operation 'train_step/gradients/loss/Sum_grad/Fill' type=Fill>, <tf.Operation 'train_step/gradients/loss/Sum_grad/DynamicStitch' type=DynamicStitch>, <tf.Operation 'train_step/gradients/loss/Sum_grad/Maximum/y' type=Const>, <tf.Operation 'train_step/gradients/loss/Sum_grad/Maximum' type=Maximum>, <tf.Operation 'train_step/gradients/loss/Sum_grad/floordiv' type=FloorDiv>, <tf.Operation 'train_step/gradients/loss/Sum_grad/Reshape' type=Reshape>, <tf.Operation 'train_step/gradients/loss/Sum_grad/Tile' type=Tile>, <tf.Operation 'train_step/gradients/loss/Sum_1_grad/Shape' type=Const>, <tf.Operation 'train_step/gradients/loss/Sum_1_grad/Size' type=Const>, <tf.Operation 'train_step/gradients/loss/Sum_1_grad/add' type=Add>, <tf.Operation 'train_step/gradients/loss/Sum_1_grad/mod' type=FloorMod>, <tf.Operation 'train_step/gradients/loss/Sum_1_grad/Shape_1' type=Const>, <tf.Operation 'train_step/gradients/loss/Sum_1_grad/range/start' type=Const>, <tf.Operation 'train_step/gradients/loss/Sum_1_grad/range/delta' type=Const>, <tf.Operation 'train_step/gradients/loss/Sum_1_grad/range' type=Range>, <tf.Operation 'train_step/gradients/loss/Sum_1_grad/Fill/value' type=Const>, <tf.Operation 'train_step/gradients/loss/Sum_1_grad/Fill' type=Fill>, <tf.Operation 'train_step/gradients/loss/Sum_1_grad/DynamicStitch' type=DynamicStitch>, <tf.Operation 'train_step/gradients/loss/Sum_1_grad/Maximum/y' type=Const>, <tf.Operation 'train_step/gradients/loss/Sum_1_grad/Maximum' type=Maximum>, <tf.Operation 'train_step/gradients/loss/Sum_1_grad/floordiv' type=FloorDiv>, <tf.Operation 'train_step/gradients/loss/Sum_1_grad/Reshape' type=Reshape>, <tf.Operation 'train_step/gradients/loss/Sum_1_grad/Tile' type=Tile>, <tf.Operation 'train_step/gradients/loss/Reshape_grad/Shape' type=Shape>, <tf.Operation 'train_step/gradients/loss/Reshape_grad/Reshape' type=Reshape>, <tf.Operation 'train_step/gradients/loss/Sum/input_grad/unstack' type=Unpack>, <tf.Operation 'train_step/gradients/loss/Sum/input_grad/tuple/group_deps' type=NoOp>, <tf.Operation 'train_step/gradients/loss/Sum/input_grad/tuple/control_dependency' type=Identity>, <tf.Operation 'train_step/gradients/loss/Sum/input_grad/tuple/control_dependency_1' type=Identity>, <tf.Operation 'train_step/gradients/loss/Sum_1/input_grad/unstack' type=Unpack>, <tf.Operation 'train_step/gradients/loss/norm/Squeeze_grad/Shape' type=Const>, <tf.Operation 'train_step/gradients/loss/norm/Squeeze_grad/Reshape' type=Reshape>, <tf.Operation 'train_step/gradients/loss/norm_1/Squeeze_grad/Shape' type=Const>, <tf.Operation 'train_step/gradients/loss/norm_1/Squeeze_grad/Reshape' type=Reshape>, <tf.Operation 'train_step/gradients/loss/norm_2/Squeeze_grad/Shape' type=Const>, <tf.Operation 'train_step/gradients/loss/norm_2/Squeeze_grad/Reshape' type=Reshape>, <tf.Operation 'train_step/gradients/loss/norm/Sqrt_grad/SqrtGrad' type=SqrtGrad>, <tf.Operation 'train_step/gradients/loss/norm_1/Sqrt_grad/SqrtGrad' type=SqrtGrad>, <tf.Operation 'train_step/gradients/loss/norm_2/Sqrt_grad/SqrtGrad' type=SqrtGrad>, <tf.Operation 'train_step/gradients/loss/norm/Sum_grad/Reshape/shape' type=Const>, <tf.Operation 'train_step/gradients/loss/norm/Sum_grad/Reshape' type=Reshape>, <tf.Operation 'train_step/gradients/loss/norm/Sum_grad/Tile/multiples' type=Const>, <tf.Operation 'train_step/gradients/loss/norm/Sum_grad/Tile' type=Tile>, <tf.Operation 'train_step/gradients/loss/norm_1/Sum_grad/Reshape/shape' type=Const>, <tf.Operation 'train_step/gradients/loss/norm_1/Sum_grad/Reshape' type=Reshape>, <tf.Operation 'train_step/gradients/loss/norm_1/Sum_grad/Tile/multiples' type=Const>, <tf.Operation 'train_step/gradients/loss/norm_1/Sum_grad/Tile' type=Tile>, <tf.Operation 'train_step/gradients/loss/norm_2/Sum_grad/Shape' type=Const>, <tf.Operation 'train_step/gradients/loss/norm_2/Sum_grad/Size' type=Const>, <tf.Operation 'train_step/gradients/loss/norm_2/Sum_grad/add' type=Add>, <tf.Operation 'train_step/gradients/loss/norm_2/Sum_grad/mod' type=FloorMod>, <tf.Operation 'train_step/gradients/loss/norm_2/Sum_grad/Shape_1' type=Const>, <tf.Operation 'train_step/gradients/loss/norm_2/Sum_grad/range/start' type=Const>, <tf.Operation 'train_step/gradients/loss/norm_2/Sum_grad/range/delta' type=Const>, <tf.Operation 'train_step/gradients/loss/norm_2/Sum_grad/range' type=Range>, <tf.Operation 'train_step/gradients/loss/norm_2/Sum_grad/Fill/value' type=Const>, <tf.Operation 'train_step/gradients/loss/norm_2/Sum_grad/Fill' type=Fill>, <tf.Operation 'train_step/gradients/loss/norm_2/Sum_grad/DynamicStitch' type=DynamicStitch>, <tf.Operation 'train_step/gradients/loss/norm_2/Sum_grad/Maximum/y' type=Const>, <tf.Operation 'train_step/gradients/loss/norm_2/Sum_grad/Maximum' type=Maximum>, <tf.Operation 'train_step/gradients/loss/norm_2/Sum_grad/floordiv' type=FloorDiv>, <tf.Operation 'train_step/gradients/loss/norm_2/Sum_grad/Reshape' type=Reshape>, <tf.Operation 'train_step/gradients/loss/norm_2/Sum_grad/Tile' type=Tile>, <tf.Operation 'train_step/gradients/fc_layer_1/Add_grad/Shape' type=Shape>, <tf.Operation 'train_step/gradients/fc_layer_1/Add_grad/Shape_1' type=Const>, <tf.Operation 'train_step/gradients/fc_layer_1/Add_grad/BroadcastGradientArgs' type=BroadcastGradientArgs>, <tf.Operation 'train_step/gradients/fc_layer_1/Add_grad/Sum' type=Sum>, <tf.Operation 'train_step/gradients/fc_layer_1/Add_grad/Reshape' type=Reshape>, <tf.Operation 'train_step/gradients/fc_layer_1/Add_grad/Sum_1' type=Sum>, <tf.Operation 'train_step/gradients/fc_layer_1/Add_grad/Reshape_1' type=Reshape>, <tf.Operation 'train_step/gradients/fc_layer_1/Add_grad/tuple/group_deps' type=NoOp>, <tf.Operation 'train_step/gradients/fc_layer_1/Add_grad/tuple/control_dependency' type=Identity>, <tf.Operation 'train_step/gradients/fc_layer_1/Add_grad/tuple/control_dependency_1' type=Identity>, <tf.Operation 'train_step/gradients/loss/norm/mul_grad/Shape' type=Const>, <tf.Operation 'train_step/gradients/loss/norm/mul_grad/Shape_1' type=Const>, <tf.Operation 'train_step/gradients/loss/norm/mul_grad/BroadcastGradientArgs' type=BroadcastGradientArgs>, <tf.Operation 'train_step/gradients/loss/norm/mul_grad/mul' type=Mul>, <tf.Operation 'train_step/gradients/loss/norm/mul_grad/Sum' type=Sum>, <tf.Operation 'train_step/gradients/loss/norm/mul_grad/Reshape' type=Reshape>, <tf.Operation 'train_step/gradients/loss/norm/mul_grad/mul_1' type=Mul>, <tf.Operation 'train_step/gradients/loss/norm/mul_grad/Sum_1' type=Sum>, <tf.Operation 'train_step/gradients/loss/norm/mul_grad/Reshape_1' type=Reshape>, <tf.Operation 'train_step/gradients/loss/norm/mul_grad/tuple/group_deps' type=NoOp>, <tf.Operation 'train_step/gradients/loss/norm/mul_grad/tuple/control_dependency' type=Identity>, <tf.Operation 'train_step/gradients/loss/norm/mul_grad/tuple/control_dependency_1' type=Identity>, <tf.Operation 'train_step/gradients/loss/norm_1/mul_grad/Shape' type=Const>, <tf.Operation 'train_step/gradients/loss/norm_1/mul_grad/Shape_1' type=Const>, <tf.Operation 'train_step/gradients/loss/norm_1/mul_grad/BroadcastGradientArgs' type=BroadcastGradientArgs>, <tf.Operation 'train_step/gradients/loss/norm_1/mul_grad/mul' type=Mul>, <tf.Operation 'train_step/gradients/loss/norm_1/mul_grad/Sum' type=Sum>, <tf.Operation 'train_step/gradients/loss/norm_1/mul_grad/Reshape' type=Reshape>, <tf.Operation 'train_step/gradients/loss/norm_1/mul_grad/mul_1' type=Mul>, <tf.Operation 'train_step/gradients/loss/norm_1/mul_grad/Sum_1' type=Sum>, <tf.Operation 'train_step/gradients/loss/norm_1/mul_grad/Reshape_1' type=Reshape>, <tf.Operation 'train_step/gradients/loss/norm_1/mul_grad/tuple/group_deps' type=NoOp>, <tf.Operation 'train_step/gradients/loss/norm_1/mul_grad/tuple/control_dependency' type=Identity>, <tf.Operation 'train_step/gradients/loss/norm_1/mul_grad/tuple/control_dependency_1' type=Identity>, <tf.Operation 'train_step/gradients/loss/norm_2/mul_grad/Shape' type=Const>, <tf.Operation 'train_step/gradients/loss/norm_2/mul_grad/Shape_1' type=Const>, <tf.Operation 'train_step/gradients/loss/norm_2/mul_grad/BroadcastGradientArgs' type=BroadcastGradientArgs>, <tf.Operation 'train_step/gradients/loss/norm_2/mul_grad/mul' type=Mul>, <tf.Operation 'train_step/gradients/loss/norm_2/mul_grad/Sum' type=Sum>, <tf.Operation 'train_step/gradients/loss/norm_2/mul_grad/Reshape' type=Reshape>, <tf.Operation 'train_step/gradients/loss/norm_2/mul_grad/mul_1' type=Mul>, <tf.Operation 'train_step/gradients/loss/norm_2/mul_grad/Sum_1' type=Sum>, <tf.Operation 'train_step/gradients/loss/norm_2/mul_grad/Reshape_1' type=Reshape>, <tf.Operation 'train_step/gradients/loss/norm_2/mul_grad/tuple/group_deps' type=NoOp>, <tf.Operation 'train_step/gradients/loss/norm_2/mul_grad/tuple/control_dependency' type=Identity>, <tf.Operation 'train_step/gradients/loss/norm_2/mul_grad/tuple/control_dependency_1' type=Identity>, <tf.Operation 'train_step/gradients/fc_layer_1/MatMul_grad/MatMul' type=MatMul>, <tf.Operation 'train_step/gradients/fc_layer_1/MatMul_grad/MatMul_1' type=MatMul>, <tf.Operation 'train_step/gradients/fc_layer_1/MatMul_grad/tuple/group_deps' type=NoOp>, <tf.Operation 'train_step/gradients/fc_layer_1/MatMul_grad/tuple/control_dependency' type=Identity>, <tf.Operation 'train_step/gradients/fc_layer_1/MatMul_grad/tuple/control_dependency_1' type=Identity>, <tf.Operation 'train_step/gradients/fc_layer_0/Relu_grad/ReluGrad' type=ReluGrad>, <tf.Operation 'train_step/gradients/AddN' type=AddN>, <tf.Operation 'train_step/gradients/fc_layer_0/Add_grad/Shape' type=Shape>, <tf.Operation 'train_step/gradients/fc_layer_0/Add_grad/Shape_1' type=Const>, <tf.Operation 'train_step/gradients/fc_layer_0/Add_grad/BroadcastGradientArgs' type=BroadcastGradientArgs>, <tf.Operation 'train_step/gradients/fc_layer_0/Add_grad/Sum' type=Sum>, <tf.Operation 'train_step/gradients/fc_layer_0/Add_grad/Reshape' type=Reshape>, <tf.Operation 'train_step/gradients/fc_layer_0/Add_grad/Sum_1' type=Sum>, <tf.Operation 'train_step/gradients/fc_layer_0/Add_grad/Reshape_1' type=Reshape>, <tf.Operation 'train_step/gradients/fc_layer_0/Add_grad/tuple/group_deps' type=NoOp>, <tf.Operation 'train_step/gradients/fc_layer_0/Add_grad/tuple/control_dependency' type=Identity>, <tf.Operation 'train_step/gradients/fc_layer_0/Add_grad/tuple/control_dependency_1' type=Identity>, <tf.Operation 'train_step/gradients/fc_layer_0/MatMul_grad/MatMul' type=MatMul>, <tf.Operation 'train_step/gradients/fc_layer_0/MatMul_grad/MatMul_1' type=MatMul>, <tf.Operation 'train_step/gradients/fc_layer_0/MatMul_grad/tuple/group_deps' type=NoOp>, <tf.Operation 'train_step/gradients/fc_layer_0/MatMul_grad/tuple/control_dependency' type=Identity>, <tf.Operation 'train_step/gradients/fc_layer_0/MatMul_grad/tuple/control_dependency_1' type=Identity>, <tf.Operation 'train_step/gradients/Reshape_grad/Shape' type=Shape>, <tf.Operation 'train_step/gradients/Reshape_grad/Reshape' type=Reshape>, <tf.Operation 'train_step/gradients/AddN_1' type=AddN>, <tf.Operation 'train_step/gradients/max_pooling_1/MaxPool_grad/MaxPoolGrad' type=MaxPoolGrad>, <tf.Operation 'train_step/gradients/conv_layer_1/Relu_grad/ReluGrad' type=ReluGrad>, <tf.Operation 'train_step/gradients/conv_layer_1/add_grad/Shape' type=Shape>, <tf.Operation 'train_step/gradients/conv_layer_1/add_grad/Shape_1' type=Const>, <tf.Operation 'train_step/gradients/conv_layer_1/add_grad/BroadcastGradientArgs' type=BroadcastGradientArgs>, <tf.Operation 'train_step/gradients/conv_layer_1/add_grad/Sum' type=Sum>, <tf.Operation 'train_step/gradients/conv_layer_1/add_grad/Reshape' type=Reshape>, <tf.Operation 'train_step/gradients/conv_layer_1/add_grad/Sum_1' type=Sum>, <tf.Operation 'train_step/gradients/conv_layer_1/add_grad/Reshape_1' type=Reshape>, <tf.Operation 'train_step/gradients/conv_layer_1/add_grad/tuple/group_deps' type=NoOp>, <tf.Operation 'train_step/gradients/conv_layer_1/add_grad/tuple/control_dependency' type=Identity>, <tf.Operation 'train_step/gradients/conv_layer_1/add_grad/tuple/control_dependency_1' type=Identity>, <tf.Operation 'train_step/gradients/conv_layer_1/Conv2D_grad/Shape' type=Shape>, <tf.Operation 'train_step/gradients/conv_layer_1/Conv2D_grad/Conv2DBackpropInput' type=Conv2DBackpropInput>, <tf.Operation 'train_step/gradients/conv_layer_1/Conv2D_grad/Shape_1' type=Const>, <tf.Operation 'train_step/gradients/conv_layer_1/Conv2D_grad/Conv2DBackpropFilter' type=Conv2DBackpropFilter>, <tf.Operation 'train_step/gradients/conv_layer_1/Conv2D_grad/tuple/group_deps' type=NoOp>, <tf.Operation 'train_step/gradients/conv_layer_1/Conv2D_grad/tuple/control_dependency' type=Identity>, <tf.Operation 'train_step/gradients/conv_layer_1/Conv2D_grad/tuple/control_dependency_1' type=Identity>, <tf.Operation 'train_step/gradients/local_response_norm/LRN_grad/LRNGrad' type=LRNGrad>, <tf.Operation 'train_step/gradients/max_pooling/MaxPool_grad/MaxPoolGrad' type=MaxPoolGrad>, <tf.Operation 'train_step/gradients/conv_layer_0/Relu_grad/ReluGrad' type=ReluGrad>, <tf.Operation 'train_step/gradients/conv_layer_0/add_grad/Shape' type=Shape>, <tf.Operation 'train_step/gradients/conv_layer_0/add_grad/Shape_1' type=Const>, <tf.Operation 'train_step/gradients/conv_layer_0/add_grad/BroadcastGradientArgs' type=BroadcastGradientArgs>, <tf.Operation 'train_step/gradients/conv_layer_0/add_grad/Sum' type=Sum>, <tf.Operation 'train_step/gradients/conv_layer_0/add_grad/Reshape' type=Reshape>, <tf.Operation 'train_step/gradients/conv_layer_0/add_grad/Sum_1' type=Sum>, <tf.Operation 'train_step/gradients/conv_layer_0/add_grad/Reshape_1' type=Reshape>, <tf.Operation 'train_step/gradients/conv_layer_0/add_grad/tuple/group_deps' type=NoOp>, <tf.Operation 'train_step/gradients/conv_layer_0/add_grad/tuple/control_dependency' type=Identity>, <tf.Operation 'train_step/gradients/conv_layer_0/add_grad/tuple/control_dependency_1' type=Identity>, <tf.Operation 'train_step/gradients/conv_layer_0/Conv2D_grad/Shape' type=Shape>, <tf.Operation 'train_step/gradients/conv_layer_0/Conv2D_grad/Conv2DBackpropInput' type=Conv2DBackpropInput>, <tf.Operation 'train_step/gradients/conv_layer_0/Conv2D_grad/Shape_1' type=Const>, <tf.Operation 'train_step/gradients/conv_layer_0/Conv2D_grad/Conv2DBackpropFilter' type=Conv2DBackpropFilter>, <tf.Operation 'train_step/gradients/conv_layer_0/Conv2D_grad/tuple/group_deps' type=NoOp>, <tf.Operation 'train_step/gradients/conv_layer_0/Conv2D_grad/tuple/control_dependency' type=Identity>, <tf.Operation 'train_step/gradients/conv_layer_0/Conv2D_grad/tuple/control_dependency_1' type=Identity>, <tf.Operation 'train_step/gradients/AddN_2' type=AddN>, <tf.Operation 'train_step/beta1_power/initial_value' type=Const>, <tf.Operation 'train_step/beta1_power' type=VariableV2>, <tf.Operation 'train_step/beta1_power/Assign' type=Assign>, <tf.Operation 'train_step/beta1_power/read' type=Identity>, <tf.Operation 'train_step/beta2_power/initial_value' type=Const>, <tf.Operation 'train_step/beta2_power' type=VariableV2>, <tf.Operation 'train_step/beta2_power/Assign' type=Assign>, <tf.Operation 'train_step/beta2_power/read' type=Identity>, <tf.Operation 'conv_layer_0/conv_kernel_0/Adam/Initializer/zeros' type=Const>, <tf.Operation 'conv_layer_0/conv_kernel_0/Adam' type=VariableV2>, <tf.Operation 'conv_layer_0/conv_kernel_0/Adam/Assign' type=Assign>, <tf.Operation 'conv_layer_0/conv_kernel_0/Adam/read' type=Identity>, <tf.Operation 'conv_layer_0/conv_kernel_0/Adam_1/Initializer/zeros' type=Const>, <tf.Operation 'conv_layer_0/conv_kernel_0/Adam_1' type=VariableV2>, <tf.Operation 'conv_layer_0/conv_kernel_0/Adam_1/Assign' type=Assign>, <tf.Operation 'conv_layer_0/conv_kernel_0/Adam_1/read' type=Identity>, <tf.Operation 'conv_layer_0/conv_bias/conv_bias_0/Adam/Initializer/zeros' type=Const>, <tf.Operation 'conv_layer_0/conv_bias/conv_bias_0/Adam' type=VariableV2>, <tf.Operation 'conv_layer_0/conv_bias/conv_bias_0/Adam/Assign' type=Assign>, <tf.Operation 'conv_layer_0/conv_bias/conv_bias_0/Adam/read' type=Identity>, <tf.Operation 'conv_layer_0/conv_bias/conv_bias_0/Adam_1/Initializer/zeros' type=Const>, <tf.Operation 'conv_layer_0/conv_bias/conv_bias_0/Adam_1' type=VariableV2>, <tf.Operation 'conv_layer_0/conv_bias/conv_bias_0/Adam_1/Assign' type=Assign>, <tf.Operation 'conv_layer_0/conv_bias/conv_bias_0/Adam_1/read' type=Identity>, <tf.Operation 'conv_layer_1/conv_kernel_1/Adam/Initializer/zeros' type=Const>, <tf.Operation 'conv_layer_1/conv_kernel_1/Adam' type=VariableV2>, <tf.Operation 'conv_layer_1/conv_kernel_1/Adam/Assign' type=Assign>, <tf.Operation 'conv_layer_1/conv_kernel_1/Adam/read' type=Identity>, <tf.Operation 'conv_layer_1/conv_kernel_1/Adam_1/Initializer/zeros' type=Const>, <tf.Operation 'conv_layer_1/conv_kernel_1/Adam_1' type=VariableV2>, <tf.Operation 'conv_layer_1/conv_kernel_1/Adam_1/Assign' type=Assign>, <tf.Operation 'conv_layer_1/conv_kernel_1/Adam_1/read' type=Identity>, <tf.Operation 'conv_layer_1/conv_bias/conv_bias_1/Adam/Initializer/zeros' type=Const>, <tf.Operation 'conv_layer_1/conv_bias/conv_bias_1/Adam' type=VariableV2>, <tf.Operation 'conv_layer_1/conv_bias/conv_bias_1/Adam/Assign' type=Assign>, <tf.Operation 'conv_layer_1/conv_bias/conv_bias_1/Adam/read' type=Identity>, <tf.Operation 'conv_layer_1/conv_bias/conv_bias_1/Adam_1/Initializer/zeros' type=Const>, <tf.Operation 'conv_layer_1/conv_bias/conv_bias_1/Adam_1' type=VariableV2>, <tf.Operation 'conv_layer_1/conv_bias/conv_bias_1/Adam_1/Assign' type=Assign>, <tf.Operation 'conv_layer_1/conv_bias/conv_bias_1/Adam_1/read' type=Identity>, <tf.Operation 'fc_layer_0/fc_kernel_0/Adam/Initializer/zeros' type=Const>, <tf.Operation 'fc_layer_0/fc_kernel_0/Adam' type=VariableV2>, <tf.Operation 'fc_layer_0/fc_kernel_0/Adam/Assign' type=Assign>, <tf.Operation 'fc_layer_0/fc_kernel_0/Adam/read' type=Identity>, <tf.Operation 'fc_layer_0/fc_kernel_0/Adam_1/Initializer/zeros' type=Const>, <tf.Operation 'fc_layer_0/fc_kernel_0/Adam_1' type=VariableV2>, <tf.Operation 'fc_layer_0/fc_kernel_0/Adam_1/Assign' type=Assign>, <tf.Operation 'fc_layer_0/fc_kernel_0/Adam_1/read' type=Identity>, <tf.Operation 'fc_layer_0/fc_kernel/fc_bias_0/Adam/Initializer/zeros' type=Const>, <tf.Operation 'fc_layer_0/fc_kernel/fc_bias_0/Adam' type=VariableV2>, <tf.Operation 'fc_layer_0/fc_kernel/fc_bias_0/Adam/Assign' type=Assign>, <tf.Operation 'fc_layer_0/fc_kernel/fc_bias_0/Adam/read' type=Identity>, <tf.Operation 'fc_layer_0/fc_kernel/fc_bias_0/Adam_1/Initializer/zeros' type=Const>, <tf.Operation 'fc_layer_0/fc_kernel/fc_bias_0/Adam_1' type=VariableV2>, <tf.Operation 'fc_layer_0/fc_kernel/fc_bias_0/Adam_1/Assign' type=Assign>, <tf.Operation 'fc_layer_0/fc_kernel/fc_bias_0/Adam_1/read' type=Identity>, <tf.Operation 'fc_layer_1/fc_kernel_1/Adam/Initializer/zeros' type=Const>, <tf.Operation 'fc_layer_1/fc_kernel_1/Adam' type=VariableV2>, <tf.Operation 'fc_layer_1/fc_kernel_1/Adam/Assign' type=Assign>, <tf.Operation 'fc_layer_1/fc_kernel_1/Adam/read' type=Identity>, <tf.Operation 'fc_layer_1/fc_kernel_1/Adam_1/Initializer/zeros' type=Const>, <tf.Operation 'fc_layer_1/fc_kernel_1/Adam_1' type=VariableV2>, <tf.Operation 'fc_layer_1/fc_kernel_1/Adam_1/Assign' type=Assign>, <tf.Operation 'fc_layer_1/fc_kernel_1/Adam_1/read' type=Identity>, <tf.Operation 'fc_layer_1/fc_kernel/fc_bias_1/Adam/Initializer/zeros' type=Const>, <tf.Operation 'fc_layer_1/fc_kernel/fc_bias_1/Adam' type=VariableV2>, <tf.Operation 'fc_layer_1/fc_kernel/fc_bias_1/Adam/Assign' type=Assign>, <tf.Operation 'fc_layer_1/fc_kernel/fc_bias_1/Adam/read' type=Identity>, <tf.Operation 'fc_layer_1/fc_kernel/fc_bias_1/Adam_1/Initializer/zeros' type=Const>, <tf.Operation 'fc_layer_1/fc_kernel/fc_bias_1/Adam_1' type=VariableV2>, <tf.Operation 'fc_layer_1/fc_kernel/fc_bias_1/Adam_1/Assign' type=Assign>, <tf.Operation 'fc_layer_1/fc_kernel/fc_bias_1/Adam_1/read' type=Identity>, <tf.Operation 'train_step/Adam/learning_rate' type=Const>, <tf.Operation 'train_step/Adam/beta1' type=Const>, <tf.Operation 'train_step/Adam/beta2' type=Const>, <tf.Operation 'train_step/Adam/epsilon' type=Const>, <tf.Operation 'train_step/Adam/update_conv_layer_0/conv_kernel_0/ApplyAdam' type=ApplyAdam>, <tf.Operation 'train_step/Adam/update_conv_layer_0/conv_bias/conv_bias_0/ApplyAdam' type=ApplyAdam>, <tf.Operation 'train_step/Adam/update_conv_layer_1/conv_kernel_1/ApplyAdam' type=ApplyAdam>, <tf.Operation 'train_step/Adam/update_conv_layer_1/conv_bias/conv_bias_1/ApplyAdam' type=ApplyAdam>, <tf.Operation 'train_step/Adam/update_fc_layer_0/fc_kernel_0/ApplyAdam' type=ApplyAdam>, <tf.Operation 'train_step/Adam/update_fc_layer_0/fc_kernel/fc_bias_0/ApplyAdam' type=ApplyAdam>, <tf.Operation 'train_step/Adam/update_fc_layer_1/fc_kernel_1/ApplyAdam' type=ApplyAdam>, <tf.Operation 'train_step/Adam/update_fc_layer_1/fc_kernel/fc_bias_1/ApplyAdam' type=ApplyAdam>, <tf.Operation 'train_step/Adam/mul' type=Mul>, <tf.Operation 'train_step/Adam/Assign' type=Assign>, <tf.Operation 'train_step/Adam/mul_1' type=Mul>, <tf.Operation 'train_step/Adam/Assign_1' type=Assign>, <tf.Operation 'train_step/Adam' type=NoOp>, <tf.Operation 'evaluate/ArgMax/dimension' type=Const>, <tf.Operation 'evaluate/ArgMax' type=ArgMax>, <tf.Operation 'evaluate/sub' type=Sub>, <tf.Operation 'evaluate/error_num/NotEqual/y' type=Const>, <tf.Operation 'evaluate/error_num/NotEqual' type=NotEqual>, <tf.Operation 'evaluate/error_num/ToInt64' type=Cast>, <tf.Operation 'evaluate/error_num/Const' type=Const>, <tf.Operation 'evaluate/error_num/Sum' type=Sum>, <tf.Operation 'evaluate/LeNet_error_num/tags' type=Const>, <tf.Operation 'evaluate/LeNet_error_num' type=ScalarSummary>, <tf.Operation 'Merge/MergeSummary' type=MergeSummary>, <tf.Operation 'save/Const' type=Const>, <tf.Operation 'save/SaveV2/tensor_names' type=Const>, <tf.Operation 'save/SaveV2/shape_and_slices' type=Const>, <tf.Operation 'save/SaveV2' type=SaveV2>, <tf.Operation 'save/control_dependency' type=Identity>, <tf.Operation 'save/RestoreV2/tensor_names' type=Const>, <tf.Operation 'save/RestoreV2/shape_and_slices' type=Const>, <tf.Operation 'save/RestoreV2' type=RestoreV2>, <tf.Operation 'save/Assign' type=Assign>, <tf.Operation 'save/RestoreV2_1/tensor_names' type=Const>, <tf.Operation 'save/RestoreV2_1/shape_and_slices' type=Const>, <tf.Operation 'save/RestoreV2_1' type=RestoreV2>, <tf.Operation 'save/Assign_1' type=Assign>, <tf.Operation 'save/RestoreV2_2/tensor_names' type=Const>, <tf.Operation 'save/RestoreV2_2/shape_and_slices' type=Const>, <tf.Operation 'save/RestoreV2_2' type=RestoreV2>, <tf.Operation 'save/Assign_2' type=Assign>, <tf.Operation 'save/RestoreV2_3/tensor_names' type=Const>, <tf.Operation 'save/RestoreV2_3/shape_and_slices' type=Const>, <tf.Operation 'save/RestoreV2_3' type=RestoreV2>, <tf.Operation 'save/Assign_3' type=Assign>, <tf.Operation 'save/RestoreV2_4/tensor_names' type=Const>, <tf.Operation 'save/RestoreV2_4/shape_and_slices' type=Const>, <tf.Operation 'save/RestoreV2_4' type=RestoreV2>, <tf.Operation 'save/Assign_4' type=Assign>, <tf.Operation 'save/RestoreV2_5/tensor_names' type=Const>, <tf.Operation 'save/RestoreV2_5/shape_and_slices' type=Const>, <tf.Operation 'save/RestoreV2_5' type=RestoreV2>, <tf.Operation 'save/Assign_5' type=Assign>, <tf.Operation 'save/RestoreV2_6/tensor_names' type=Const>, <tf.Operation 'save/RestoreV2_6/shape_and_slices' type=Const>, <tf.Operation 'save/RestoreV2_6' type=RestoreV2>, <tf.Operation 'save/Assign_6' type=Assign>, <tf.Operation 'save/RestoreV2_7/tensor_names' type=Const>, <tf.Operation 'save/RestoreV2_7/shape_and_slices' type=Const>, <tf.Operation 'save/RestoreV2_7' type=RestoreV2>, <tf.Operation 'save/Assign_7' type=Assign>, <tf.Operation 'save/RestoreV2_8/tensor_names' type=Const>, <tf.Operation 'save/RestoreV2_8/shape_and_slices' type=Const>, <tf.Operation 'save/RestoreV2_8' type=RestoreV2>, <tf.Operation 'save/Assign_8' type=Assign>, <tf.Operation 'save/RestoreV2_9/tensor_names' type=Const>, <tf.Operation 'save/RestoreV2_9/shape_and_slices' type=Const>, <tf.Operation 'save/RestoreV2_9' type=RestoreV2>, <tf.Operation 'save/Assign_9' type=Assign>, <tf.Operation 'save/RestoreV2_10/tensor_names' type=Const>, <tf.Operation 'save/RestoreV2_10/shape_and_slices' type=Const>, <tf.Operation 'save/RestoreV2_10' type=RestoreV2>, <tf.Operation 'save/Assign_10' type=Assign>, <tf.Operation 'save/RestoreV2_11/tensor_names' type=Const>, <tf.Operation 'save/RestoreV2_11/shape_and_slices' type=Const>, <tf.Operation 'save/RestoreV2_11' type=RestoreV2>, <tf.Operation 'save/Assign_11' type=Assign>, <tf.Operation 'save/RestoreV2_12/tensor_names' type=Const>, <tf.Operation 'save/RestoreV2_12/shape_and_slices' type=Const>, <tf.Operation 'save/RestoreV2_12' type=RestoreV2>, <tf.Operation 'save/Assign_12' type=Assign>, <tf.Operation 'save/RestoreV2_13/tensor_names' type=Const>, <tf.Operation 'save/RestoreV2_13/shape_and_slices' type=Const>, <tf.Operation 'save/RestoreV2_13' type=RestoreV2>, <tf.Operation 'save/Assign_13' type=Assign>, <tf.Operation 'save/RestoreV2_14/tensor_names' type=Const>, <tf.Operation 'save/RestoreV2_14/shape_and_slices' type=Const>, <tf.Operation 'save/RestoreV2_14' type=RestoreV2>, <tf.Operation 'save/Assign_14' type=Assign>, <tf.Operation 'save/RestoreV2_15/tensor_names' type=Const>, <tf.Operation 'save/RestoreV2_15/shape_and_slices' type=Const>, <tf.Operation 'save/RestoreV2_15' type=RestoreV2>, <tf.Operation 'save/Assign_15' type=Assign>, <tf.Operation 'save/RestoreV2_16/tensor_names' type=Const>, <tf.Operation 'save/RestoreV2_16/shape_and_slices' type=Const>, <tf.Operation 'save/RestoreV2_16' type=RestoreV2>, <tf.Operation 'save/Assign_16' type=Assign>, <tf.Operation 'save/RestoreV2_17/tensor_names' type=Const>, <tf.Operation 'save/RestoreV2_17/shape_and_slices' type=Const>, <tf.Operation 'save/RestoreV2_17' type=RestoreV2>, <tf.Operation 'save/Assign_17' type=Assign>, <tf.Operation 'save/RestoreV2_18/tensor_names' type=Const>, <tf.Operation 'save/RestoreV2_18/shape_and_slices' type=Const>, <tf.Operation 'save/RestoreV2_18' type=RestoreV2>, <tf.Operation 'save/Assign_18' type=Assign>, <tf.Operation 'save/RestoreV2_19/tensor_names' type=Const>, <tf.Operation 'save/RestoreV2_19/shape_and_slices' type=Const>, <tf.Operation 'save/RestoreV2_19' type=RestoreV2>, <tf.Operation 'save/Assign_19' type=Assign>, <tf.Operation 'save/RestoreV2_20/tensor_names' type=Const>, <tf.Operation 'save/RestoreV2_20/shape_and_slices' type=Const>, <tf.Operation 'save/RestoreV2_20' type=RestoreV2>, <tf.Operation 'save/Assign_20' type=Assign>, <tf.Operation 'save/RestoreV2_21/tensor_names' type=Const>, <tf.Operation 'save/RestoreV2_21/shape_and_slices' type=Const>, <tf.Operation 'save/RestoreV2_21' type=RestoreV2>, <tf.Operation 'save/Assign_21' type=Assign>, <tf.Operation 'save/RestoreV2_22/tensor_names' type=Const>, <tf.Operation 'save/RestoreV2_22/shape_and_slices' type=Const>, <tf.Operation 'save/RestoreV2_22' type=RestoreV2>, <tf.Operation 'save/Assign_22' type=Assign>, <tf.Operation 'save/RestoreV2_23/tensor_names' type=Const>, <tf.Operation 'save/RestoreV2_23/shape_and_slices' type=Const>, <tf.Operation 'save/RestoreV2_23' type=RestoreV2>, <tf.Operation 'save/Assign_23' type=Assign>, <tf.Operation 'save/RestoreV2_24/tensor_names' type=Const>, <tf.Operation 'save/RestoreV2_24/shape_and_slices' type=Const>, <tf.Operation 'save/RestoreV2_24' type=RestoreV2>, <tf.Operation 'save/Assign_24' type=Assign>, <tf.Operation 'save/RestoreV2_25/tensor_names' type=Const>, <tf.Operation 'save/RestoreV2_25/shape_and_slices' type=Const>, <tf.Operation 'save/RestoreV2_25' type=RestoreV2>, <tf.Operation 'save/Assign_25' type=Assign>, <tf.Operation 'save/restore_all' type=NoOp>, <tf.Operation 'init' type=NoOp>]\n"
     ]
    }
   ],
   "source": [
    "from neuralnets.CNN import predict\n",
    "tf.reset_default_graph()\n",
    "result = predict(X_test,\"lenet_1509803802.meta\")"
   ]
  },
  {
   "cell_type": "markdown",
   "metadata": {},
   "source": [
    "## Generate .csv file"
   ]
  },
  {
   "cell_type": "code",
   "execution_count": 61,
   "metadata": {
    "collapsed": true
   },
   "outputs": [],
   "source": [
    "import csv\n",
    "with open('predicted.csv','w',newline='') as csvfile:\n",
    "    fieldnames = ['Id','label']\n",
    "    writer = csv.DictWriter(csvfile, fieldnames=fieldnames)\n",
    "    writer.writeheader()    \n",
    "    for index,l in enumerate(result):\n",
    "        filename = str(index)\n",
    "        label = str(l)\n",
    "        writer.writerow({'Id': filename, 'label': label})"
   ]
  }
 ],
 "metadata": {
  "kernelspec": {
   "display_name": "Python 3",
   "language": "python",
   "name": "python3"
  },
  "language_info": {
   "codemirror_mode": {
    "name": "ipython",
    "version": 3
   },
   "file_extension": ".py",
   "mimetype": "text/x-python",
   "name": "python",
   "nbconvert_exporter": "python",
   "pygments_lexer": "ipython3",
   "version": "3.6.3"
  }
 },
 "nbformat": 4,
 "nbformat_minor": 2
}
